{
 "cells": [
  {
   "cell_type": "code",
   "execution_count": 1,
   "metadata": {},
   "outputs": [],
   "source": [
    "from scipy.stats import norm\n",
    "import numpy as np\n",
    "import matplotlib.pyplot as plt\n",
    "%matplotlib inline"
   ]
  },
  {
   "cell_type": "code",
   "execution_count": 2,
   "metadata": {},
   "outputs": [],
   "source": [
    "r = norm.rvs(size=10000)"
   ]
  },
  {
   "cell_type": "code",
   "execution_count": 3,
   "metadata": {},
   "outputs": [],
   "source": [
    "counts, bins = np.histogram(r, bins=20)"
   ]
  },
  {
   "cell_type": "code",
   "execution_count": 4,
   "metadata": {},
   "outputs": [
    {
     "data": {
      "text/plain": [
       "0.3652980691821348"
      ]
     },
     "execution_count": 4,
     "metadata": {},
     "output_type": "execute_result"
    }
   ],
   "source": [
    "width = (bins[1:] - bins[:-1])[0]\n",
    "width"
   ]
  },
  {
   "cell_type": "code",
   "execution_count": 98,
   "metadata": {},
   "outputs": [],
   "source": [
    "def gain_shift(counts, bins, width, multiplier=1.5, n=100):\n",
    "    stretch = np.array([])\n",
    "    left = np.min(bins)\n",
    "    nbins = np.array([bins[0]])\n",
    "    for i, c in enumerate(counts[1:]):\n",
    "        # nbins = np.append(nbins, nbins[-1]+width)\n",
    "        new = np.linspace(counts[i], c, num=n, endpoint=False)\n",
    "        stretch = np.append(stretch, new)\n",
    "\n",
    "        # nbins = np.append(nbins, nbins[-1]+width)\n",
    "        # stretch = np.append(stretch, c)\n",
    "    # nbins = np.append(nbins, nbins[-1]+width)\n",
    "    stretch = np.append(stretch, counts[-1])\n",
    "    keep = np.sort(np.random.choice(stretch.shape[0], size=int(stretch.shape[0]*(multiplier/n)), replace=False))\n",
    "    print(stretch.shape, nbins.shape)\n",
    "    print(stretch)\n",
    "    stretch = stretch[keep]\n",
    "    nbins = np.arange(bins[0], bins[0]+(width*(len(stretch)+1)), width)\n",
    "    # nbins = nbins[keep]\n",
    "\n",
    "    return stretch, nbins"
   ]
  },
  {
   "cell_type": "code",
   "execution_count": 92,
   "metadata": {},
   "outputs": [
    {
     "data": {
      "text/plain": [
       "0.9999999999999999"
      ]
     },
     "execution_count": 92,
     "metadata": {},
     "output_type": "execute_result"
    }
   ],
   "source": [
    "np.sum(counts/np.sum(counts))"
   ]
  },
  {
   "cell_type": "code",
   "execution_count": 76,
   "metadata": {},
   "outputs": [
    {
     "name": "stdout",
     "output_type": "stream",
     "text": [
      "(20,) (19,) (20,)\n"
     ]
    }
   ],
   "source": [
    "print(counts.shape, stretch.shape, nbins.shape)"
   ]
  },
  {
   "cell_type": "code",
   "execution_count": 77,
   "metadata": {},
   "outputs": [
    {
     "name": "stdout",
     "output_type": "stream",
     "text": [
      "10000\n",
      "7210.5\n"
     ]
    }
   ],
   "source": [
    "print(np.sum(counts))\n",
    "print(np.sum(stretch))"
   ]
  },
  {
   "cell_type": "code",
   "execution_count": 102,
   "metadata": {},
   "outputs": [
    {
     "name": "stdout",
     "output_type": "stream",
     "text": [
      "(39,) (1,)\n",
      "[   3.     5.5    8.    21.5   35.    58.5   82.   129.   176.   280.\n",
      "  384.   510.   636.   798.   960.  1089.5 1219.  1290.  1361.  1412.5\n",
      " 1464.  1399.5 1335.  1151.5  968.   810.5  653.   512.   371.   288.5\n",
      "  206.   146.    86.    60.5   35.    25.    15.     9.     3. ]\n"
     ]
    },
    {
     "data": {
      "text/plain": [
       "(array([   6.84462697,   43.55671707,  219.02806297,  348.45373654,\n",
       "         477.87941012,  634.68359156,  791.48777301, 1355.85837845,\n",
       "        1517.0182316 , 1605.37614336, 1821.91525107,  812.64389273,\n",
       "         181.69373406,   75.29089665,   43.55671707,   31.11194076,\n",
       "          18.66716446,   11.20029867,    3.73343289]),\n",
       " array([-3.682009  , -3.31671093, -2.95141286, -2.58611479, -2.22081673,\n",
       "        -1.85551866, -1.49022059, -1.12492252, -0.75962445, -0.39432638,\n",
       "        -0.02902831,  0.33626976,  0.70156783,  1.0668659 ,  1.43216397,\n",
       "         1.79746204,  2.1627601 ,  2.52805817,  2.89335624,  3.25865431]),\n",
       " <BarContainer object of 19 artists>)"
      ]
     },
     "execution_count": 102,
     "metadata": {},
     "output_type": "execute_result"
    },
    {
     "data": {
      "image/png": "[encoded data removed]",
      "text/plain": [
       "<Figure size 432x288 with 1 Axes>"
      ]
     },
     "metadata": {
      "needs_background": "light"
     },
     "output_type": "display_data"
    }
   ],
   "source": [
    "stretch, nbins = gain_shift(counts, bins, width, multiplier=1.0, n=2)\n",
    "plt.hist(bins[:-1], bins, weights=counts)\n",
    "plt.hist(nbins[:-1], nbins, weights=stretch*(np.sum(counts)/np.sum(stretch)), alpha=0.5)"
   ]
  },
  {
   "cell_type": "code",
   "execution_count": null,
   "metadata": {},
   "outputs": [],
   "source": []
  },
  {
   "cell_type": "code",
   "execution_count": null,
   "metadata": {},
   "outputs": [],
   "source": []
  }
 ],
 "metadata": {
  "kernelspec": {
   "display_name": "Python 3.8.10 64-bit",
   "language": "python",
   "name": "python3"
  },
  "language_info": {
   "codemirror_mode": {
    "name": "ipython",
    "version": 3
   },
   "file_extension": ".py",
   "mimetype": "text/x-python",
   "name": "python",
   "nbconvert_exporter": "python",
   "pygments_lexer": "ipython3",
   "version": "3.8.10"
  },
  "orig_nbformat": 4,
  "vscode": {
   "interpreter": {
    "hash": "916dbcbb3f70747c44a77c7bcd40155683ae19c65e1c03b4aa3499c5328201f1"
   }
  }
 },
 "nbformat": 4,
 "nbformat_minor": 2
}
