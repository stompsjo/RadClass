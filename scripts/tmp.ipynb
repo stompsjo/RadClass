{
 "cells": [
  {
   "cell_type": "code",
   "execution_count": 13,
   "metadata": {},
   "outputs": [],
   "source": [
    "import numpy as np\n",
    "import pandas as pd\n",
    "import matplotlib.pyplot as plt\n",
    "from augs import DANSE\n",
    "%matplotlib inline"
   ]
  },
  {
   "cell_type": "code",
   "execution_count": 15,
   "metadata": {},
   "outputs": [],
   "source": [
    "auger = DANSE()"
   ]
  },
  {
   "cell_type": "code",
   "execution_count": 17,
   "metadata": {},
   "outputs": [
    {
     "name": "stdout",
     "output_type": "stream",
     "text": [
      "(8170,) (81691,) (8170,) (81692,)\n"
     ]
    }
   ],
   "source": [
    "print(data.shape, spec.shape, np.arange(data.shape[0]).shape, bins.shape)"
   ]
  },
  {
   "cell_type": "code",
   "execution_count": 18,
   "metadata": {},
   "outputs": [],
   "source": [
    "from scipy.signal import resample\n",
    "from scipy.interpolate import interp1d\n",
    "\n",
    "def ResampleLinear1D(original, targetLen):\n",
    "    original = np.array(original, dtype=float)\n",
    "    index_arr = np.linspace(0, len(original)-1, num=targetLen, dtype=float)\n",
    "    index_floor = np.array(index_arr, dtype=int) #Round down\n",
    "    index_ceil = index_floor + 1\n",
    "    index_rem = index_arr - index_floor #Remain\n",
    "\n",
    "    val1 = original[index_floor]\n",
    "    val2 = original[index_ceil % len(original)]\n",
    "    interp = val1 * (1.0-index_rem) + val2 * index_rem\n",
    "    assert(len(interp) == targetLen)\n",
    "    return interp"
   ]
  },
  {
   "cell_type": "code",
   "execution_count": 80,
   "metadata": {},
   "outputs": [
    {
     "data": {
      "text/plain": [
       "<matplotlib.patches.StepPatch at 0x7f045ce3fd30>"
      ]
     },
     "execution_count": 80,
     "metadata": {},
     "output_type": "execute_result"
    },
    {
     "data": {
      "image/png": "[encoded data removed]",
      "text/plain": [
       "<Figure size 432x288 with 1 Axes>"
      ]
     },
     "metadata": {
      "needs_background": "light"
     },
     "output_type": "display_data"
    }
   ],
   "source": [
    "c = np.random.normal(size=10000)\n",
    "ct, b = np.histogram(c, bins=20)\n",
    "width = (b[1:] - b[:-1])[0]\n",
    "plt.stairs(ct, b)"
   ]
  },
  {
   "cell_type": "code",
   "execution_count": 86,
   "metadata": {},
   "outputs": [
    {
     "data": {
      "text/plain": [
       "<matplotlib.patches.StepPatch at 0x7f045cbc2df0>"
      ]
     },
     "execution_count": 86,
     "metadata": {},
     "output_type": "execute_result"
    },
    {
     "data": {
      "image/png": "[encoded data removed]",
      "text/plain": [
       "<Figure size 432x288 with 1 Axes>"
      ]
     },
     "metadata": {
      "needs_background": "light"
     },
     "output_type": "display_data"
    }
   ],
   "source": [
    "k = 5\n",
    "tmp = np.insert(ct, 0, np.repeat(0., k))\n",
    "tnb = np.arange(b[0], b[-1]+(k*width), width)\n",
    "plt.stairs(ct, b)\n",
    "plt.stairs(tmp, tnb)\n"
   ]
  },
  {
   "cell_type": "code",
   "execution_count": 102,
   "metadata": {},
   "outputs": [
    {
     "data": {
      "text/plain": [
       "<matplotlib.patches.StepPatch at 0x7f045c5ebb80>"
      ]
     },
     "execution_count": 102,
     "metadata": {},
     "output_type": "execute_result"
    },
    {
     "data": {
      "image/png": "[encoded data removed]",
      "text/plain": [
       "<Figure size 432x288 with 1 Axes>"
      ]
     },
     "metadata": {
      "needs_background": "light"
     },
     "output_type": "display_data"
    }
   ],
   "source": [
    "j = 5\n",
    "diff = np.absolute(tmp - np.random.poisson(lam=j*tmp))\n",
    "new = tmp - diff\n",
    "new[1:] = new[1:] + diff[:-1]\n",
    "new = np.append(new, diff[-1])\n",
    "new[new < 0] = 0.\n",
    "new = new.astype(float)\n",
    "new *= np.sum(ct)/np.sum(new)\n",
    "nb = np.append(tnb, tnb[-1]+width)\n",
    "plt.stairs(ct, b)\n",
    "plt.stairs(new, nb)"
   ]
  },
  {
   "cell_type": "code",
   "execution_count": 126,
   "metadata": {},
   "outputs": [
    {
     "data": {
      "text/plain": [
       "(array([0., 1.]), array([1, 2]))"
      ]
     },
     "execution_count": 126,
     "metadata": {},
     "output_type": "execute_result"
    }
   ],
   "source": [
    "from scipy.stats import halfnorm\n",
    "np.unique(np.round(halfnorm.rvs(scale=1, size=ct[-1])), return_counts=True)"
   ]
  },
  {
   "cell_type": "code",
   "execution_count": 190,
   "metadata": {},
   "outputs": [
    {
     "name": "stdout",
     "output_type": "stream",
     "text": [
      "(555,) (556,)\n",
      "10000 10000\n"
     ]
    }
   ],
   "source": [
    "new_ct = ct.copy()\n",
    "for i, c in enumerate(ct):\n",
    "    idx, nc = np.unique(np.round(halfnorm.rvs(scale=10, size=ct[i])), return_counts=True)\n",
    "    missing_idx = np.count_nonzero(i+idx >= ct.shape)\n",
    "    if missing_idx > 0:\n",
    "        # print(i, missing_idx, idx)\n",
    "        new_ct = np.append(new_ct, np.repeat(0, np.max(idx)-1))\n",
    "    new_ct[(i+idx).astype(int)] += nc\n",
    "    new_ct[i] -= np.sum(nc)\n",
    "new_b = np.arange(b[0], b[0]+((len(new_ct)+1)*width), width)\n",
    "print(new_ct.shape, new_b.shape)\n",
    "print(np.sum(ct), np.sum(new_ct))"
   ]
  },
  {
   "cell_type": "code",
   "execution_count": 191,
   "metadata": {},
   "outputs": [
    {
     "data": {
      "text/plain": [
       "array([  0,   0,   1,   7,  13,  37,  72, 130, 203, 282, 397, 522, 633,\n",
       "       594, 658, 673, 648, 589, 583, 510, 451, 427, 331, 390, 298, 284,\n",
       "       192, 199, 172, 142, 118,  88,  81,  67,  43,  35,  24,  28,  16,\n",
       "        13,  11,   7,   9,   6,   8,   2,   3,   1,   0,   1,   0,   1,\n",
       "         0,   0,   0,   0,   0,   0,   0,   0,   0,   0,   0,   0,   0,\n",
       "         0,   0,   0,   0,   0,   0,   0,   0,   0,   0,   0,   0,   0,\n",
       "         0,   0,   0,   0,   0,   0,   0,   0,   0,   0,   0,   0,   0,\n",
       "         0,   0,   0,   0,   0,   0,   0,   0,   0,   0,   0,   0,   0,\n",
       "         0,   0,   0,   0,   0,   0,   0,   0,   0,   0,   0,   0,   0,\n",
       "         0,   0,   0,   0,   0,   0,   0,   0,   0,   0,   0,   0,   0,\n",
       "         0,   0,   0,   0,   0,   0,   0,   0,   0,   0,   0,   0,   0,\n",
       "         0,   0,   0,   0,   0,   0,   0,   0,   0,   0,   0,   0,   0,\n",
       "         0,   0,   0,   0,   0,   0,   0,   0,   0,   0,   0,   0,   0,\n",
       "         0,   0,   0,   0,   0,   0,   0,   0,   0,   0,   0,   0,   0,\n",
       "         0,   0,   0,   0,   0,   0,   0,   0,   0,   0,   0,   0,   0,\n",
       "         0,   0,   0,   0,   0,   0,   0,   0,   0,   0,   0,   0,   0,\n",
       "         0,   0,   0,   0,   0,   0,   0,   0,   0,   0,   0,   0,   0,\n",
       "         0,   0,   0,   0,   0,   0,   0,   0,   0,   0,   0,   0,   0,\n",
       "         0,   0,   0,   0,   0,   0,   0,   0,   0,   0,   0,   0,   0,\n",
       "         0,   0,   0,   0,   0,   0,   0,   0,   0,   0,   0,   0,   0,\n",
       "         0,   0,   0,   0,   0,   0,   0,   0,   0,   0,   0,   0,   0,\n",
       "         0,   0,   0,   0,   0,   0,   0,   0,   0,   0,   0,   0,   0,\n",
       "         0,   0,   0,   0,   0,   0,   0,   0,   0,   0,   0,   0,   0,\n",
       "         0,   0,   0,   0,   0,   0,   0,   0,   0,   0,   0,   0,   0,\n",
       "         0,   0,   0,   0,   0,   0,   0,   0,   0,   0,   0,   0,   0,\n",
       "         0,   0,   0,   0,   0,   0,   0,   0,   0,   0,   0,   0,   0,\n",
       "         0,   0,   0,   0,   0,   0,   0,   0,   0,   0,   0,   0,   0,\n",
       "         0,   0,   0,   0,   0,   0,   0,   0,   0,   0,   0,   0,   0,\n",
       "         0,   0,   0,   0,   0,   0,   0,   0,   0,   0,   0,   0,   0,\n",
       "         0,   0,   0,   0,   0,   0,   0,   0,   0,   0,   0,   0,   0,\n",
       "         0,   0,   0,   0,   0,   0,   0,   0,   0,   0,   0,   0,   0,\n",
       "         0,   0,   0,   0,   0,   0,   0,   0,   0,   0,   0,   0,   0,\n",
       "         0,   0,   0,   0,   0,   0,   0,   0,   0,   0,   0,   0,   0,\n",
       "         0,   0,   0,   0,   0,   0,   0,   0,   0,   0,   0,   0,   0,\n",
       "         0,   0,   0,   0,   0,   0,   0,   0,   0,   0,   0,   0,   0,\n",
       "         0,   0,   0,   0,   0,   0,   0,   0,   0,   0,   0,   0,   0,\n",
       "         0,   0,   0,   0,   0,   0,   0,   0,   0,   0,   0,   0,   0,\n",
       "         0,   0,   0,   0,   0,   0,   0,   0,   0,   0,   0,   0,   0,\n",
       "         0,   0,   0,   0,   0,   0,   0,   0,   0,   0,   0,   0,   0,\n",
       "         0,   0,   0,   0,   0,   0,   0,   0,   0,   0,   0,   0,   0,\n",
       "         0,   0,   0,   0,   0,   0,   0,   0,   0,   0,   0,   0,   0,\n",
       "         0,   0,   0,   0,   0,   0,   0,   0,   0,   0,   0,   0,   0,\n",
       "         0,   0,   0,   0,   0,   0,   0,   0,   0])"
      ]
     },
     "execution_count": 191,
     "metadata": {},
     "output_type": "execute_result"
    }
   ],
   "source": [
    "new_ct"
   ]
  },
  {
   "cell_type": "code",
   "execution_count": 192,
   "metadata": {},
   "outputs": [
    {
     "data": {
      "text/plain": [
       "(-3.0, 25.0)"
      ]
     },
     "execution_count": 192,
     "metadata": {},
     "output_type": "execute_result"
    },
    {
     "data": {
      "image/png": "[encoded data removed]",
      "text/plain": [
       "<Figure size 432x288 with 1 Axes>"
      ]
     },
     "metadata": {
      "needs_background": "light"
     },
     "output_type": "display_data"
    }
   ],
   "source": [
    "plt.stairs(ct, b)\n",
    "plt.stairs(new_ct, new_b)\n",
    "plt.xlim(-3, 25)"
   ]
  },
  {
   "cell_type": "code",
   "execution_count": 183,
   "metadata": {},
   "outputs": [
    {
     "name": "stdout",
     "output_type": "stream",
     "text": [
      "6.598124594467254 14.183315097642977\n"
     ]
    }
   ],
   "source": [
    "old_coeff = auger._fit((0, len(ct)), ct)\n",
    "old_fwhm = 2*np.sqrt(2*np.log(2))*old_coeff[2]\n",
    "new_coeff = auger._fit((0, len(new_ct)), new_ct)\n",
    "new_fwhm = 2*np.sqrt(2*np.log(2))*new_coeff[2]\n",
    "print(old_fwhm, new_fwhm)"
   ]
  },
  {
   "cell_type": "code",
   "execution_count": 187,
   "metadata": {},
   "outputs": [
    {
     "name": "stdout",
     "output_type": "stream",
     "text": [
      "6.598124594467254 14.183315097642977\n"
     ]
    },
    {
     "data": {
      "image/png": "[encoded data removed]",
      "text/plain": [
       "<Figure size 432x288 with 2 Axes>"
      ]
     },
     "metadata": {
      "needs_background": "light"
     },
     "output_type": "display_data"
    }
   ],
   "source": [
    "fig, (ax1, ax2) = plt.subplots(1, 2, sharey=True)\n",
    "old_coeff = auger._fit((0, len(ct)), ct)\n",
    "old_fwhm = 2*np.sqrt(2*np.log(2))*old_coeff[2]\n",
    "ax1.semilogy(ct)\n",
    "ax1.plot(auger._lingauss(np.arange(0, len(ct)), *old_coeff))\n",
    "new_coeff = auger._fit((0, len(new_ct)), new_ct)\n",
    "new_fwhm = 2*np.sqrt(2*np.log(2))*new_coeff[2]\n",
    "ax2.semilogy(new_ct)\n",
    "ax2.plot(auger._lingauss(np.arange(0, len(new_ct)), *new_coeff))\n",
    "# ax1.set_xlim(3300, 3450)\n",
    "ax2.set_xlim(0, len(new_ct))\n",
    "print(old_fwhm, new_fwhm)"
   ]
  },
  {
   "cell_type": "code",
   "execution_count": null,
   "metadata": {},
   "outputs": [],
   "source": []
  }
 ],
 "metadata": {
  "kernelspec": {
   "display_name": "Python 3.9.12 ('base')",
   "language": "python",
   "name": "python3"
  },
  "language_info": {
   "codemirror_mode": {
    "name": "ipython",
    "version": 3
   },
   "file_extension": ".py",
   "mimetype": "text/x-python",
   "name": "python",
   "nbconvert_exporter": "python",
   "pygments_lexer": "ipython3",
   "version": "3.9.12"
  },
  "orig_nbformat": 4,
  "vscode": {
   "interpreter": {
    "hash": "2575748a6780d2a26fa9d349b5fa03498d3830bff9773d8fc3a3cdfdf9b2035a"
   }
  }
 },
 "nbformat": 4,
 "nbformat_minor": 2
}
