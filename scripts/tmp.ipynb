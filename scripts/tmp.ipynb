{
 "cells": [
  {
   "cell_type": "code",
   "execution_count": 1,
   "metadata": {},
   "outputs": [],
   "source": [
    "from scipy.stats import norm\n",
    "import numpy as np\n",
    "import matplotlib.pyplot as plt\n",
    "%matplotlib inline"
   ]
  },
  {
   "cell_type": "code",
   "execution_count": 141,
   "metadata": {},
   "outputs": [],
   "source": [
    "r = norm.rvs(size=10000)"
   ]
  },
  {
   "cell_type": "code",
   "execution_count": 142,
   "metadata": {},
   "outputs": [],
   "source": [
    "counts, bins = np.histogram(r, bins=20)"
   ]
  },
  {
   "cell_type": "code",
   "execution_count": 143,
   "metadata": {},
   "outputs": [
    {
     "data": {
      "text/plain": [
       "0.4072766854292853"
      ]
     },
     "execution_count": 143,
     "metadata": {},
     "output_type": "execute_result"
    }
   ],
   "source": [
    "width = (bins[1:] - bins[:-1])[0]\n",
    "width"
   ]
  },
  {
   "cell_type": "code",
   "execution_count": 144,
   "metadata": {},
   "outputs": [
    {
     "data": {
      "text/plain": [
       "array([   2. ,    3. ,    4. ,   15. ,   26. ,   35. ,   44. ,   89.5,\n",
       "        135. ,  241.5,  348. ,  467. ,  586. ,  792.5,  999. , 1166. ,\n",
       "       1333. , 1486.5, 1640. , 1595. , 1550. , 1430. , 1310. , 1131. ,\n",
       "        952. ,  781.5,  611. ,  444.5,  278. ,  194. ,  110. ,   79.5,\n",
       "         49. ,   31.5,   14. ,    9. ,    4. ,    4.5,    5. ])"
      ]
     },
     "execution_count": 144,
     "metadata": {},
     "output_type": "execute_result"
    }
   ],
   "source": [
    "stretch = np.array([])\n",
    "left = np.min(bins)\n",
    "nbins = np.array([bins[0]])\n",
    "for i, c in enumerate(counts[1:]):\n",
    "    # nbins = np.append(nbins, nbins[-1]+width)\n",
    "    new = np.linspace(counts[i], c, num=2, endpoint=False)\n",
    "    stretch = np.append(stretch, new)\n",
    "\n",
    "    # nbins = np.append(nbins, nbins[-1]+width)\n",
    "    # stretch = np.append(stretch, c)\n",
    "# nbins = np.append(nbins, nbins[-1]+width)\n",
    "stretch = np.append(stretch, counts[-1])\n",
    "nbins = np.arange(bins[0], bins[0]+(width*(len(stretch)+1)), width)\n",
    "\n",
    "keep = np.sort(np.random.choice(stretch.shape[0], size=int(stretch.shape[0]*0.75), replace=False))\n",
    "stretch = stretch[keep]\n",
    "nbins = nbins[keep]\n",
    "\n",
    "stretch"
   ]
  },
  {
   "cell_type": "code",
   "execution_count": 154,
   "metadata": {},
   "outputs": [
    {
     "name": "stdout",
     "output_type": "stream",
     "text": [
      "10000\n",
      "16059.0\n"
     ]
    }
   ],
   "source": [
    "print(np.sum(counts))\n",
    "print(np.sum(stretch))"
   ]
  },
  {
   "cell_type": "code",
   "execution_count": 155,
   "metadata": {},
   "outputs": [
    {
     "ename": "ValueError",
     "evalue": "weights should have the same shape as x",
     "output_type": "error",
     "traceback": [
      "\u001b[0;31m---------------------------------------------------------------------------\u001b[0m",
      "\u001b[0;31mValueError\u001b[0m                                Traceback (most recent call last)",
      "\u001b[1;32mUntitled-1.ipynb Cell 8\u001b[0m in \u001b[0;36m<cell line: 2>\u001b[0;34m()\u001b[0m\n\u001b[1;32m      <a href='vscode-notebook-cell:Untitled-1.ipynb?jupyter-notebook#X11sdW50aXRsZWQ%3D?line=0'>1</a>\u001b[0m plt\u001b[39m.\u001b[39mhist(bins[:\u001b[39m-\u001b[39m\u001b[39m1\u001b[39m], bins, weights\u001b[39m=\u001b[39mcounts)\n\u001b[0;32m----> <a href='vscode-notebook-cell:Untitled-1.ipynb?jupyter-notebook#X11sdW50aXRsZWQ%3D?line=1'>2</a>\u001b[0m plt\u001b[39m.\u001b[39;49mhist(nbins[:\u001b[39m-\u001b[39;49m\u001b[39m1\u001b[39;49m], nbins, weights\u001b[39m=\u001b[39;49mstretch\u001b[39m*\u001b[39;49m(np\u001b[39m.\u001b[39;49msum(counts)\u001b[39m/\u001b[39;49mnp\u001b[39m.\u001b[39;49msum(stretch)))\n",
      "File \u001b[0;32m~/miniconda3/lib/python3.9/site-packages/matplotlib/pyplot.py:2590\u001b[0m, in \u001b[0;36mhist\u001b[0;34m(x, bins, range, density, weights, cumulative, bottom, histtype, align, orientation, rwidth, log, color, label, stacked, data, **kwargs)\u001b[0m\n\u001b[1;32m   2584\u001b[0m \u001b[39m@_copy_docstring_and_deprecators\u001b[39m(Axes\u001b[39m.\u001b[39mhist)\n\u001b[1;32m   2585\u001b[0m \u001b[39mdef\u001b[39;00m \u001b[39mhist\u001b[39m(\n\u001b[1;32m   2586\u001b[0m         x, bins\u001b[39m=\u001b[39m\u001b[39mNone\u001b[39;00m, \u001b[39mrange\u001b[39m\u001b[39m=\u001b[39m\u001b[39mNone\u001b[39;00m, density\u001b[39m=\u001b[39m\u001b[39mFalse\u001b[39;00m, weights\u001b[39m=\u001b[39m\u001b[39mNone\u001b[39;00m,\n\u001b[1;32m   2587\u001b[0m         cumulative\u001b[39m=\u001b[39m\u001b[39mFalse\u001b[39;00m, bottom\u001b[39m=\u001b[39m\u001b[39mNone\u001b[39;00m, histtype\u001b[39m=\u001b[39m\u001b[39m'\u001b[39m\u001b[39mbar\u001b[39m\u001b[39m'\u001b[39m, align\u001b[39m=\u001b[39m\u001b[39m'\u001b[39m\u001b[39mmid\u001b[39m\u001b[39m'\u001b[39m,\n\u001b[1;32m   2588\u001b[0m         orientation\u001b[39m=\u001b[39m\u001b[39m'\u001b[39m\u001b[39mvertical\u001b[39m\u001b[39m'\u001b[39m, rwidth\u001b[39m=\u001b[39m\u001b[39mNone\u001b[39;00m, log\u001b[39m=\u001b[39m\u001b[39mFalse\u001b[39;00m, color\u001b[39m=\u001b[39m\u001b[39mNone\u001b[39;00m,\n\u001b[1;32m   2589\u001b[0m         label\u001b[39m=\u001b[39m\u001b[39mNone\u001b[39;00m, stacked\u001b[39m=\u001b[39m\u001b[39mFalse\u001b[39;00m, \u001b[39m*\u001b[39m, data\u001b[39m=\u001b[39m\u001b[39mNone\u001b[39;00m, \u001b[39m*\u001b[39m\u001b[39m*\u001b[39mkwargs):\n\u001b[0;32m-> 2590\u001b[0m     \u001b[39mreturn\u001b[39;00m gca()\u001b[39m.\u001b[39;49mhist(\n\u001b[1;32m   2591\u001b[0m         x, bins\u001b[39m=\u001b[39;49mbins, \u001b[39mrange\u001b[39;49m\u001b[39m=\u001b[39;49m\u001b[39mrange\u001b[39;49m, density\u001b[39m=\u001b[39;49mdensity, weights\u001b[39m=\u001b[39;49mweights,\n\u001b[1;32m   2592\u001b[0m         cumulative\u001b[39m=\u001b[39;49mcumulative, bottom\u001b[39m=\u001b[39;49mbottom, histtype\u001b[39m=\u001b[39;49mhisttype,\n\u001b[1;32m   2593\u001b[0m         align\u001b[39m=\u001b[39;49malign, orientation\u001b[39m=\u001b[39;49morientation, rwidth\u001b[39m=\u001b[39;49mrwidth, log\u001b[39m=\u001b[39;49mlog,\n\u001b[1;32m   2594\u001b[0m         color\u001b[39m=\u001b[39;49mcolor, label\u001b[39m=\u001b[39;49mlabel, stacked\u001b[39m=\u001b[39;49mstacked,\n\u001b[1;32m   2595\u001b[0m         \u001b[39m*\u001b[39;49m\u001b[39m*\u001b[39;49m({\u001b[39m\"\u001b[39;49m\u001b[39mdata\u001b[39;49m\u001b[39m\"\u001b[39;49m: data} \u001b[39mif\u001b[39;49;00m data \u001b[39mis\u001b[39;49;00m \u001b[39mnot\u001b[39;49;00m \u001b[39mNone\u001b[39;49;00m \u001b[39melse\u001b[39;49;00m {}), \u001b[39m*\u001b[39;49m\u001b[39m*\u001b[39;49mkwargs)\n",
      "File \u001b[0;32m~/miniconda3/lib/python3.9/site-packages/matplotlib/__init__.py:1412\u001b[0m, in \u001b[0;36m_preprocess_data.<locals>.inner\u001b[0;34m(ax, data, *args, **kwargs)\u001b[0m\n\u001b[1;32m   1409\u001b[0m \u001b[39m@functools\u001b[39m\u001b[39m.\u001b[39mwraps(func)\n\u001b[1;32m   1410\u001b[0m \u001b[39mdef\u001b[39;00m \u001b[39minner\u001b[39m(ax, \u001b[39m*\u001b[39margs, data\u001b[39m=\u001b[39m\u001b[39mNone\u001b[39;00m, \u001b[39m*\u001b[39m\u001b[39m*\u001b[39mkwargs):\n\u001b[1;32m   1411\u001b[0m     \u001b[39mif\u001b[39;00m data \u001b[39mis\u001b[39;00m \u001b[39mNone\u001b[39;00m:\n\u001b[0;32m-> 1412\u001b[0m         \u001b[39mreturn\u001b[39;00m func(ax, \u001b[39m*\u001b[39;49m\u001b[39mmap\u001b[39;49m(sanitize_sequence, args), \u001b[39m*\u001b[39;49m\u001b[39m*\u001b[39;49mkwargs)\n\u001b[1;32m   1414\u001b[0m     bound \u001b[39m=\u001b[39m new_sig\u001b[39m.\u001b[39mbind(ax, \u001b[39m*\u001b[39margs, \u001b[39m*\u001b[39m\u001b[39m*\u001b[39mkwargs)\n\u001b[1;32m   1415\u001b[0m     auto_label \u001b[39m=\u001b[39m (bound\u001b[39m.\u001b[39marguments\u001b[39m.\u001b[39mget(label_namer)\n\u001b[1;32m   1416\u001b[0m                   \u001b[39mor\u001b[39;00m bound\u001b[39m.\u001b[39mkwargs\u001b[39m.\u001b[39mget(label_namer))\n",
      "File \u001b[0;32m~/miniconda3/lib/python3.9/site-packages/matplotlib/axes/_axes.py:6586\u001b[0m, in \u001b[0;36mAxes.hist\u001b[0;34m(self, x, bins, range, density, weights, cumulative, bottom, histtype, align, orientation, rwidth, log, color, label, stacked, **kwargs)\u001b[0m\n\u001b[1;32m   6584\u001b[0m len_xi \u001b[39m=\u001b[39m \u001b[39mlen\u001b[39m(xi)\n\u001b[1;32m   6585\u001b[0m \u001b[39mif\u001b[39;00m wi \u001b[39mis\u001b[39;00m \u001b[39mnot\u001b[39;00m \u001b[39mNone\u001b[39;00m \u001b[39mand\u001b[39;00m \u001b[39mlen\u001b[39m(wi) \u001b[39m!=\u001b[39m len_xi:\n\u001b[0;32m-> 6586\u001b[0m     \u001b[39mraise\u001b[39;00m \u001b[39mValueError\u001b[39;00m(\u001b[39m'\u001b[39m\u001b[39mweights should have the same shape as x\u001b[39m\u001b[39m'\u001b[39m)\n\u001b[1;32m   6587\u001b[0m \u001b[39mif\u001b[39;00m len_xi:\n\u001b[1;32m   6588\u001b[0m     input_empty \u001b[39m=\u001b[39m \u001b[39mFalse\u001b[39;00m\n",
      "\u001b[0;31mValueError\u001b[0m: weights should have the same shape as x"
     ]
    },
    {
     "data": {
      "image/png": "[encoded data removed]",
      "text/plain": [
       "<Figure size 432x288 with 1 Axes>"
      ]
     },
     "metadata": {
      "needs_background": "light"
     },
     "output_type": "display_data"
    }
   ],
   "source": [
    "plt.hist(bins[:-1], bins, weights=counts)\n",
    "plt.hist(nbins[:-1], nbins, weights=stretch*(np.sum(counts)/np.sum(stretch)))"
   ]
  },
  {
   "cell_type": "code",
   "execution_count": null,
   "metadata": {},
   "outputs": [],
   "source": []
  },
  {
   "cell_type": "code",
   "execution_count": null,
   "metadata": {},
   "outputs": [],
   "source": []
  }
 ],
 "metadata": {
  "kernelspec": {
   "display_name": "Python 3.9.12 ('base')",
   "language": "python",
   "name": "python3"
  },
  "language_info": {
   "codemirror_mode": {
    "name": "ipython",
    "version": 3
   },
   "file_extension": ".py",
   "mimetype": "text/x-python",
   "name": "python",
   "nbconvert_exporter": "python",
   "pygments_lexer": "ipython3",
   "version": "3.9.12"
  },
  "orig_nbformat": 4,
  "vscode": {
   "interpreter": {
    "hash": "2575748a6780d2a26fa9d349b5fa03498d3830bff9773d8fc3a3cdfdf9b2035a"
   }
  }
 },
 "nbformat": 4,
 "nbformat_minor": 2
}
